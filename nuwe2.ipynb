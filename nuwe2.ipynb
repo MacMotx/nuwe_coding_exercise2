{
 "cells": [
  {
   "cell_type": "code",
   "execution_count": 9,
   "id": "2ac2df19",
   "metadata": {},
   "outputs": [],
   "source": [
    "# como solo pueden ser divididos entre ellos mismos \n",
    "# o 1 eliminamos estos numeros del rango para buscar \n",
    "# los primos en un submétodo\n",
    "def is_prime(m):\n",
    "    return all(m % i for i in range(2, int(m**0.5)))\n",
    "\n",
    "# buscamos los factores del numero objetivo añadiendo\n",
    "# las condiciones que sea factor ademas de primo, y \n",
    "# devuelva el maximo numero encontrado\n",
    "def Largest_Prime_Factor(n):\n",
    "    return max(n // i for i in range(1, int(n**0.5)) if is_prime(n // i)==True)\n"
   ]
  },
  {
   "cell_type": "code",
   "execution_count": 10,
   "id": "5e4a1be4",
   "metadata": {},
   "outputs": [
    {
     "name": "stdout",
     "output_type": "stream",
     "text": [
      "100141912523\n"
     ]
    }
   ],
   "source": [
    "n = 600851475143\n",
    "print(Largest_Prime_Factor(n))"
   ]
  }
 ],
 "metadata": {
  "kernelspec": {
   "display_name": "Python 3 (ipykernel)",
   "language": "python",
   "name": "python3"
  },
  "language_info": {
   "codemirror_mode": {
    "name": "ipython",
    "version": 3
   },
   "file_extension": ".py",
   "mimetype": "text/x-python",
   "name": "python",
   "nbconvert_exporter": "python",
   "pygments_lexer": "ipython3",
   "version": "3.9.7"
  }
 },
 "nbformat": 4,
 "nbformat_minor": 5
}
