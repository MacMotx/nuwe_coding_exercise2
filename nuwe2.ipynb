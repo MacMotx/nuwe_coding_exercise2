{
 "cells": [
  {
   "cell_type": "code",
   "execution_count": 46,
   "id": "def89a41",
   "metadata": {},
   "outputs": [],
   "source": [
    "# como solo pueden ser divididos entre ellos mismos \n",
    "# o 1 eliminamos estos numeros del rango para buscar \n",
    "# los primos en un submétodo\n",
    "def is_prime(m):\n",
    "    return all(m % i for i in range(2, m - 1))\n",
    "\n",
    "# buscamos los factores del numero objetivo añadiendo\n",
    "# las condiciones que sea factor ademas de primo, y \n",
    "# devuelva el maximo numero encontrado\n",
    "def Largest_Prime_Factor(n):\n",
    "    return max(n // i for i in range(1, n) if n % i == 0 and is_prime(n // i))\n"
   ]
  },
  {
   "cell_type": "code",
   "execution_count": 47,
   "id": "4470cf46",
   "metadata": {},
   "outputs": [
    {
     "name": "stdout",
     "output_type": "stream",
     "text": [
      "29\n"
     ]
    }
   ],
   "source": [
    "print(Largest_Prime_Factor(13195))"
   ]
  }
 ],
 "metadata": {
  "kernelspec": {
   "display_name": "Python 3 (ipykernel)",
   "language": "python",
   "name": "python3"
  },
  "language_info": {
   "codemirror_mode": {
    "name": "ipython",
    "version": 3
   },
   "file_extension": ".py",
   "mimetype": "text/x-python",
   "name": "python",
   "nbconvert_exporter": "python",
   "pygments_lexer": "ipython3",
   "version": "3.9.7"
  }
 },
 "nbformat": 4,
 "nbformat_minor": 5
}
